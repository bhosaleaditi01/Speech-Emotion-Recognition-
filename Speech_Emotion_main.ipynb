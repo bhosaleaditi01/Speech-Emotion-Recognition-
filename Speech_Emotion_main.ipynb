{
  "nbformat": 4,
  "nbformat_minor": 0,
  "metadata": {
    "colab": {
      "name": "Untitled3.ipynb",
      "provenance": [],
      "collapsed_sections": []
    },
    "kernelspec": {
      "name": "python3",
      "display_name": "Python 3"
    },
    "language_info": {
      "name": "python"
    }
  },
  "cells": [
    {
      "cell_type": "code",
      "metadata": {
        "colab": {
          "base_uri": "https://localhost:8080/"
        },
        "id": "Y2x6BKxTHDSN",
        "outputId": "053a44c7-ab37-442e-e06a-649693c55844"
      },
      "source": [
        "from google.colab import drive\n",
        "drive.mount('/content/drive/')"
      ],
      "execution_count": null,
      "outputs": [
        {
          "output_type": "stream",
          "text": [
            "Mounted at /content/drive/\n"
          ],
          "name": "stdout"
        }
      ]
    },
    {
      "cell_type": "code",
      "metadata": {
        "id": "5I8Kg5pJHgfC"
      },
      "source": [
        "import time\n",
        "import librosa\n",
        "import soundfile\n",
        "import os, glob, pickle\n",
        "import numpy as np\n",
        "from sklearn.model_selection import train_test_split\n",
        "from sklearn.neural_network import MLPClassifier\n",
        "from sklearn.metrics import accuracy_score\n"
      ],
      "execution_count": null,
      "outputs": []
    },
    {
      "cell_type": "code",
      "metadata": {
        "id": "ut02v1NiHqe-"
      },
      "source": [
        "def extract_feature(file_name, mfcc, chroma, mel):\n",
        "    with soundfile.SoundFile(file_name) as sound_file:\n",
        "        X = sound_file.read(dtype=\"float32\")\n",
        "        sample_rate=sound_file.samplerate\n",
        "        if chroma:\n",
        "            stft=np.abs(librosa.stft(X))\n",
        "        result=np.array([])\n",
        "        if mfcc:\n",
        "            mfccs=np.mean(librosa.feature.mfcc(y=X, sr=sample_rate, n_mfcc=40).T, axis=0)\n",
        "            result=np.hstack((result, mfccs))\n",
        "        if chroma:\n",
        "            chroma=np.mean(librosa.feature.chroma_stft(S=stft, sr=sample_rate).T,axis=0)\n",
        "            result=np.hstack((result, chroma))\n",
        "        if mel:\n",
        "            mel=np.mean(librosa.feature.melspectrogram(X, sr=sample_rate).T,axis=0)\n",
        "            result=np.hstack((result, mel))\n",
        "    return result"
      ],
      "execution_count": null,
      "outputs": []
    },
    {
      "cell_type": "code",
      "metadata": {
        "id": "vuPMt-d5LRbI"
      },
      "source": [
        "#Emotions in the RAVDESS dataset\n",
        "emotions={\n",
        "  '01':'neutral',\n",
        "  '02':'calm',\n",
        "  '03':'happy',\n",
        "  '04':'sad',\n",
        "  '05':'angry',\n",
        "  '06':'fearful',\n",
        "  '07':'disgust',\n",
        "  '08':'surprised'\n",
        "}\n",
        "#Emotions to observe\n",
        "observed_emotions=['calm', 'happy', 'fearful', 'disgust']"
      ],
      "execution_count": null,
      "outputs": []
    },
    {
      "cell_type": "code",
      "metadata": {
        "id": "CMty9fOML5Fd"
      },
      "source": [
        "#Load the data and extract features for each sound file\n",
        "def load_data(test_size = 0.2):\n",
        "  x, y = [], []\n",
        "  for folder in glob.glob('/content/drive/My Drive/speech-emotion-recognition-ravdess-data/Actor_*'):\n",
        "    print(folder)\n",
        "    for file in glob.glob(folder + '/*.wav'):\n",
        "      file_name = os.path.basename(file)\n",
        "      emotion = emotions[file_name.split('-')[2]]\n",
        "      if emotion not in observed_emotions:\n",
        "        continue\n",
        "      feature = extract_feature(file, mfcc = True, chroma = True, mel = True)\n",
        "      x.append(feature)\n",
        "      y.append(emotion)\n",
        "  return train_test_split(np.array(x), y, test_size = test_size, random_state = 9)"
      ],
      "execution_count": null,
      "outputs": []
    },
    {
      "cell_type": "code",
      "metadata": {
        "colab": {
          "base_uri": "https://localhost:8080/"
        },
        "id": "v7qKpLRbMBqa",
        "outputId": "21c3bc4f-dfb2-4968-f828-456be526f024"
      },
      "source": [
        "file=\"/content/drive/My Drive/speech-emotion-recognition-ravdess-data/Actor_02/03-01-01-01-01-01-02.wav\"\n",
        "feature=extract_feature(file,mfcc=True,chroma=True,mel=True)\n",
        "#aaa = librosa.load('/content/drive/My Drive/speech-emotion-recognition-ravdess-data/Actor_10/03-01-01-01-01-01-10.wav')\n",
        "#file=\"content/drive/My Drive/speech-emotion-recognition-ravdess-data/Actor_10/03-01-01-01-01-01-10.wav\"\n",
        "#Split the dataset\n",
        "x_train,x_test,y_train,y_test=load_data(test_size=0.25)\n",
        "print(x_train)\n",
        "print(x_test)\n",
        "print(y_train)\n",
        "print(y_test)"
      ],
      "execution_count": null,
      "outputs": [
        {
          "output_type": "stream",
          "text": [
            "/content/drive/My Drive/speech-emotion-recognition-ravdess-data/Actor_18\n",
            "/content/drive/My Drive/speech-emotion-recognition-ravdess-data/Actor_20\n",
            "/content/drive/My Drive/speech-emotion-recognition-ravdess-data/Actor_15\n",
            "/content/drive/My Drive/speech-emotion-recognition-ravdess-data/Actor_17\n",
            "/content/drive/My Drive/speech-emotion-recognition-ravdess-data/Actor_23\n",
            "/content/drive/My Drive/speech-emotion-recognition-ravdess-data/Actor_24\n",
            "/content/drive/My Drive/speech-emotion-recognition-ravdess-data/Actor_16\n",
            "/content/drive/My Drive/speech-emotion-recognition-ravdess-data/Actor_21\n",
            "/content/drive/My Drive/speech-emotion-recognition-ravdess-data/Actor_19\n",
            "/content/drive/My Drive/speech-emotion-recognition-ravdess-data/Actor_22\n",
            "/content/drive/My Drive/speech-emotion-recognition-ravdess-data/Actor_12\n",
            "/content/drive/My Drive/speech-emotion-recognition-ravdess-data/Actor_11\n",
            "/content/drive/My Drive/speech-emotion-recognition-ravdess-data/Actor_06\n",
            "/content/drive/My Drive/speech-emotion-recognition-ravdess-data/Actor_10\n",
            "/content/drive/My Drive/speech-emotion-recognition-ravdess-data/Actor_14\n",
            "/content/drive/My Drive/speech-emotion-recognition-ravdess-data/Actor_13\n",
            "/content/drive/My Drive/speech-emotion-recognition-ravdess-data/Actor_09\n",
            "/content/drive/My Drive/speech-emotion-recognition-ravdess-data/Actor_05\n",
            "/content/drive/My Drive/speech-emotion-recognition-ravdess-data/Actor_07\n",
            "/content/drive/My Drive/speech-emotion-recognition-ravdess-data/Actor_08\n",
            "/content/drive/My Drive/speech-emotion-recognition-ravdess-data/Actor_04\n",
            "/content/drive/My Drive/speech-emotion-recognition-ravdess-data/Actor_03\n",
            "/content/drive/My Drive/speech-emotion-recognition-ravdess-data/Actor_02\n",
            "/content/drive/My Drive/speech-emotion-recognition-ravdess-data/Actor_01\n",
            "/content/drive/My Drive/speech-emotion-recognition-ravdess-data/Actor_25\n",
            "/content/drive/My Drive/speech-emotion-recognition-ravdess-data/Actor_27\n",
            "/content/drive/My Drive/speech-emotion-recognition-ravdess-data/Actor_26\n",
            "/content/drive/My Drive/speech-emotion-recognition-ravdess-data/Actor_28\n",
            "/content/drive/My Drive/speech-emotion-recognition-ravdess-data/Actor_29\n",
            "/content/drive/My Drive/speech-emotion-recognition-ravdess-data/Actor_30\n",
            "/content/drive/My Drive/speech-emotion-recognition-ravdess-data/Actor_31\n",
            "/content/drive/My Drive/speech-emotion-recognition-ravdess-data/Actor_32\n",
            "/content/drive/My Drive/speech-emotion-recognition-ravdess-data/Actor_34\n",
            "/content/drive/My Drive/speech-emotion-recognition-ravdess-data/Actor_33\n",
            "/content/drive/My Drive/speech-emotion-recognition-ravdess-data/Actor_35\n",
            "/content/drive/My Drive/speech-emotion-recognition-ravdess-data/Actor_36\n",
            "/content/drive/My Drive/speech-emotion-recognition-ravdess-data/Actor_37\n",
            "/content/drive/My Drive/speech-emotion-recognition-ravdess-data/Actor_38\n",
            "/content/drive/My Drive/speech-emotion-recognition-ravdess-data/Actor_39\n",
            "/content/drive/My Drive/speech-emotion-recognition-ravdess-data/Actor_40\n",
            "[[-5.17151550e+02  4.88204880e+01 -9.02013493e+00 ...  1.80285628e-04\n",
            "   1.07373962e-04  4.76354580e-05]\n",
            " [-7.95570374e+02  3.55506325e+01  1.64709556e+00 ...  6.26254950e-06\n",
            "   4.75230536e-06  2.51864594e-06]\n",
            " [-6.67103821e+02  6.13767700e+01 -9.01065946e-01 ...  2.47099379e-05\n",
            "   1.72176005e-05  5.94455378e-06]\n",
            " ...\n",
            " [-6.94012756e+02  6.00223274e+01  1.24646864e+01 ...  7.34330888e-06\n",
            "   3.52293637e-06  1.95582220e-06]\n",
            " [-5.56770630e+02  3.49958611e+01 -1.21606884e+01 ...  1.56850641e-04\n",
            "   9.86818704e-05  6.10335883e-05]\n",
            " [-5.28512329e+02  4.86668854e+01  1.01729670e+01 ...  8.40384047e-04\n",
            "   5.50294237e-04  3.28765600e-04]]\n",
            "x test =  [[-6.08030884e+02  4.91803703e+01  2.82927585e+00 ...  7.58506721e-05\n",
            "   2.39210385e-05  9.37607092e-06]\n",
            " [-4.55941803e+02  1.13333845e+01 -1.81008492e+01 ...  1.40275701e-03\n",
            "   7.50296458e-04  4.46032267e-04]\n",
            " [-5.97749878e+02  5.80726242e+01  3.51645041e+00 ...  4.14963433e-05\n",
            "   5.28286582e-05  1.03983315e-04]\n",
            " ...\n",
            " [-5.26768555e+02  5.88640327e+01 -7.90002346e+00 ...  9.69547327e-05\n",
            "   7.97719913e-05  3.55970224e-05]\n",
            " [-5.52707947e+02  2.09608116e+01 -1.56144953e+01 ...  6.12588716e-04\n",
            "   3.46819230e-04  1.95287837e-04]\n",
            " [-5.00415314e+02  2.58783302e+01 -1.62260399e+01 ...  5.91058575e-04\n",
            "   3.92896734e-04  2.21594688e-04]]\n",
            "['calm', 'calm', 'calm', 'happy', 'fearful', 'happy', 'happy', 'calm', 'fearful', 'fearful', 'fearful', 'calm', 'calm', 'happy', 'disgust', 'fearful', 'happy', 'calm', 'happy', 'disgust', 'happy', 'disgust', 'calm', 'calm', 'fearful', 'calm', 'calm', 'calm', 'happy', 'disgust', 'fearful', 'calm', 'calm', 'happy', 'calm', 'disgust', 'fearful', 'calm', 'disgust', 'calm', 'disgust', 'disgust', 'fearful', 'disgust', 'calm', 'calm', 'happy', 'disgust', 'fearful', 'disgust', 'calm', 'disgust', 'disgust', 'fearful', 'calm', 'disgust', 'disgust', 'disgust', 'fearful', 'calm', 'happy', 'fearful', 'fearful', 'happy', 'disgust', 'fearful', 'happy', 'fearful', 'calm', 'disgust', 'fearful', 'fearful', 'disgust', 'calm', 'happy', 'disgust', 'calm', 'fearful', 'fearful', 'happy', 'calm', 'fearful', 'disgust', 'disgust', 'disgust', 'disgust', 'fearful', 'disgust', 'fearful', 'fearful', 'calm', 'happy', 'fearful', 'happy', 'disgust', 'disgust', 'calm', 'fearful', 'fearful', 'happy', 'fearful', 'happy', 'calm', 'happy', 'disgust', 'fearful', 'disgust', 'calm', 'calm', 'disgust', 'happy', 'happy', 'disgust', 'calm', 'fearful', 'fearful', 'happy', 'disgust', 'disgust', 'happy', 'calm', 'disgust', 'fearful', 'happy', 'happy', 'fearful', 'fearful', 'calm', 'calm', 'happy', 'calm', 'calm', 'fearful', 'happy', 'calm', 'happy', 'fearful', 'disgust', 'calm', 'calm', 'fearful', 'disgust', 'disgust', 'disgust', 'calm', 'happy', 'fearful', 'happy', 'calm', 'happy', 'fearful', 'happy', 'happy', 'happy', 'happy', 'calm', 'disgust', 'calm', 'calm', 'happy', 'calm', 'happy', 'fearful', 'fearful', 'calm', 'disgust', 'fearful', 'disgust', 'disgust', 'happy', 'happy', 'fearful', 'happy', 'happy', 'disgust', 'disgust', 'disgust', 'calm', 'happy', 'fearful', 'fearful', 'calm', 'fearful', 'fearful', 'happy', 'fearful', 'fearful', 'fearful', 'happy', 'disgust', 'happy', 'fearful', 'calm', 'fearful', 'happy', 'calm', 'disgust', 'disgust', 'happy', 'calm', 'calm', 'happy', 'calm', 'fearful', 'disgust', 'disgust', 'calm', 'disgust', 'calm', 'fearful', 'happy', 'happy', 'fearful', 'happy', 'fearful', 'calm', 'fearful', 'fearful', 'calm', 'calm', 'happy', 'disgust', 'disgust', 'happy', 'happy', 'happy', 'happy', 'happy', 'disgust', 'disgust', 'calm', 'happy', 'happy', 'disgust', 'fearful', 'happy', 'happy', 'calm', 'fearful', 'fearful', 'happy', 'calm', 'happy', 'happy', 'calm', 'fearful', 'happy', 'disgust', 'disgust', 'happy', 'happy', 'calm', 'happy', 'fearful', 'calm', 'happy', 'disgust', 'happy', 'disgust', 'calm', 'fearful', 'happy', 'calm', 'fearful', 'disgust', 'fearful', 'fearful', 'fearful', 'disgust', 'fearful', 'disgust', 'calm', 'fearful', 'fearful', 'fearful', 'fearful', 'calm', 'happy', 'calm', 'calm', 'happy', 'calm', 'calm', 'happy', 'happy', 'happy', 'disgust', 'disgust', 'calm', 'disgust', 'disgust', 'fearful', 'happy', 'calm', 'calm', 'disgust', 'fearful', 'calm', 'disgust', 'disgust', 'calm', 'happy', 'calm', 'happy', 'calm', 'happy', 'calm', 'fearful', 'calm', 'calm', 'disgust', 'fearful', 'fearful', 'fearful', 'calm', 'calm', 'happy', 'calm', 'calm', 'fearful', 'calm', 'fearful', 'disgust', 'calm', 'disgust', 'happy', 'fearful', 'calm', 'disgust', 'disgust', 'happy', 'disgust', 'happy', 'disgust', 'happy', 'calm', 'calm', 'calm', 'disgust', 'fearful', 'disgust', 'fearful', 'calm', 'disgust', 'happy', 'disgust', 'happy', 'fearful', 'fearful', 'fearful', 'calm', 'fearful', 'fearful', 'calm', 'calm', 'disgust', 'fearful', 'disgust', 'disgust', 'disgust', 'calm', 'happy', 'disgust', 'calm', 'disgust', 'happy', 'happy', 'happy', 'fearful', 'disgust', 'calm', 'happy', 'happy', 'disgust', 'calm', 'calm', 'happy', 'disgust', 'calm', 'happy', 'happy', 'disgust', 'calm', 'calm', 'happy', 'calm', 'disgust', 'calm', 'fearful', 'disgust', 'happy', 'fearful', 'fearful', 'calm', 'disgust', 'disgust', 'disgust', 'disgust', 'happy', 'disgust', 'calm', 'fearful', 'fearful', 'fearful', 'fearful', 'happy', 'fearful', 'fearful', 'fearful', 'happy', 'calm', 'happy', 'calm', 'happy', 'calm', 'disgust', 'calm', 'happy', 'calm', 'fearful', 'fearful', 'fearful', 'fearful', 'calm', 'fearful', 'calm', 'calm', 'calm', 'fearful', 'fearful', 'fearful', 'calm', 'fearful', 'disgust', 'calm', 'happy', 'calm', 'fearful', 'calm', 'happy', 'disgust', 'disgust', 'disgust', 'disgust', 'happy', 'fearful', 'happy', 'disgust', 'calm', 'calm', 'calm', 'calm', 'disgust', 'happy', 'disgust', 'calm', 'fearful', 'disgust', 'happy', 'happy', 'disgust', 'fearful', 'happy', 'happy', 'calm', 'disgust', 'happy', 'disgust', 'disgust', 'happy', 'disgust', 'fearful', 'disgust', 'happy', 'disgust', 'calm', 'happy', 'calm', 'calm', 'disgust', 'happy', 'happy', 'happy', 'fearful', 'fearful', 'happy', 'disgust', 'calm', 'fearful', 'disgust', 'calm', 'fearful', 'happy', 'calm', 'happy', 'calm', 'calm', 'disgust', 'fearful', 'happy', 'disgust', 'fearful', 'calm', 'happy', 'calm', 'disgust', 'happy', 'fearful', 'fearful', 'fearful', 'calm', 'fearful', 'disgust', 'happy', 'happy', 'disgust', 'happy', 'fearful', 'happy', 'happy', 'fearful', 'calm', 'fearful', 'disgust', 'disgust', 'calm', 'happy', 'disgust', 'disgust', 'fearful', 'happy', 'happy', 'fearful', 'fearful', 'fearful', 'disgust', 'calm', 'calm', 'disgust', 'happy', 'happy', 'calm', 'happy', 'calm', 'disgust', 'calm', 'calm', 'calm', 'happy', 'happy', 'fearful', 'happy', 'disgust', 'happy', 'fearful', 'calm', 'disgust', 'disgust', 'calm', 'disgust', 'disgust', 'disgust', 'fearful', 'happy', 'fearful', 'disgust', 'fearful', 'disgust', 'calm', 'happy', 'fearful', 'disgust', 'happy', 'happy', 'fearful', 'disgust', 'disgust', 'happy', 'disgust', 'disgust', 'happy', 'calm', 'happy', 'disgust', 'fearful', 'disgust', 'disgust', 'fearful', 'fearful', 'fearful', 'calm', 'happy', 'calm', 'disgust', 'disgust', 'calm', 'calm', 'happy', 'happy', 'disgust', 'disgust', 'calm', 'fearful', 'happy', 'happy', 'disgust', 'calm', 'calm', 'calm', 'calm', 'fearful', 'happy', 'calm', 'disgust', 'fearful', 'fearful', 'fearful', 'happy', 'happy', 'fearful', 'calm', 'fearful', 'calm', 'calm', 'happy', 'fearful', 'happy', 'fearful', 'happy', 'fearful', 'happy', 'happy', 'calm', 'calm', 'disgust', 'fearful', 'disgust', 'disgust', 'happy', 'calm', 'fearful', 'happy', 'fearful', 'happy', 'disgust', 'fearful', 'fearful', 'happy', 'fearful', 'happy', 'disgust', 'calm', 'calm', 'happy', 'fearful', 'disgust', 'fearful', 'happy', 'calm', 'disgust', 'disgust', 'calm', 'calm', 'disgust', 'calm', 'disgust', 'happy', 'calm', 'disgust', 'happy', 'calm', 'disgust', 'disgust', 'calm', 'calm', 'calm', 'calm', 'fearful', 'disgust', 'calm', 'disgust', 'disgust', 'disgust', 'disgust', 'calm', 'disgust', 'happy', 'fearful', 'calm', 'fearful', 'calm', 'fearful', 'disgust', 'disgust', 'fearful', 'calm', 'disgust', 'calm', 'happy', 'disgust', 'fearful', 'disgust', 'fearful', 'fearful', 'calm', 'disgust', 'fearful', 'disgust', 'fearful', 'happy', 'fearful', 'fearful', 'disgust', 'disgust', 'fearful', 'happy', 'fearful', 'calm', 'fearful', 'happy', 'fearful', 'happy', 'happy', 'happy', 'disgust', 'calm', 'happy', 'disgust', 'calm', 'fearful', 'calm', 'happy', 'happy', 'calm', 'disgust', 'disgust', 'happy', 'fearful', 'happy', 'happy', 'fearful', 'fearful', 'happy', 'fearful', 'calm', 'calm', 'happy', 'disgust', 'fearful', 'happy', 'disgust', 'disgust', 'disgust', 'fearful', 'happy', 'fearful', 'happy', 'fearful', 'calm', 'fearful', 'disgust', 'happy', 'happy', 'fearful', 'happy', 'disgust', 'calm', 'calm', 'happy', 'calm', 'disgust', 'disgust', 'happy', 'calm', 'calm', 'calm', 'happy', 'happy', 'fearful', 'fearful', 'disgust', 'happy', 'fearful', 'fearful', 'calm', 'calm', 'calm', 'fearful', 'disgust', 'happy', 'fearful', 'happy', 'fearful', 'happy', 'happy', 'fearful', 'disgust', 'fearful', 'disgust', 'calm', 'calm', 'disgust', 'disgust', 'disgust', 'fearful', 'fearful', 'happy', 'disgust', 'fearful', 'fearful', 'calm', 'disgust', 'fearful', 'calm', 'calm', 'fearful', 'happy', 'happy', 'calm', 'fearful', 'calm', 'happy', 'happy', 'calm', 'calm', 'happy', 'disgust', 'fearful', 'disgust', 'disgust', 'disgust', 'calm', 'fearful', 'happy', 'calm', 'happy', 'disgust', 'disgust', 'calm', 'disgust', 'disgust', 'fearful', 'fearful', 'fearful', 'calm', 'disgust', 'happy', 'disgust', 'happy', 'happy', 'happy', 'disgust', 'calm', 'disgust', 'disgust', 'disgust', 'happy', 'fearful', 'fearful', 'calm', 'fearful', 'calm', 'fearful', 'disgust', 'disgust', 'disgust', 'calm', 'fearful', 'fearful', 'disgust', 'disgust', 'disgust', 'happy', 'calm', 'calm', 'calm', 'happy', 'disgust', 'fearful', 'happy', 'happy', 'fearful', 'calm', 'calm', 'calm', 'fearful', 'disgust', 'happy', 'fearful', 'fearful', 'disgust', 'fearful', 'fearful', 'happy', 'disgust', 'happy', 'calm', 'happy', 'happy', 'disgust', 'fearful', 'happy', 'disgust', 'fearful', 'happy', 'happy', 'fearful', 'disgust', 'disgust', 'disgust', 'fearful', 'calm', 'disgust', 'calm', 'calm', 'disgust', 'happy', 'fearful', 'calm', 'fearful', 'calm', 'happy', 'fearful', 'happy', 'happy', 'disgust', 'happy', 'happy', 'disgust', 'happy', 'disgust', 'calm', 'fearful', 'happy', 'fearful', 'calm', 'happy', 'disgust', 'happy', 'disgust', 'calm', 'happy', 'happy', 'disgust', 'fearful', 'fearful', 'calm', 'calm', 'calm', 'calm', 'happy', 'disgust', 'happy', 'fearful', 'happy', 'fearful', 'happy', 'calm', 'fearful', 'disgust']\n",
            "['happy', 'fearful', 'calm', 'happy', 'disgust', 'disgust', 'fearful', 'disgust', 'happy', 'happy', 'disgust', 'calm', 'fearful', 'disgust', 'happy', 'fearful', 'happy', 'calm', 'calm', 'fearful', 'disgust', 'happy', 'disgust', 'disgust', 'happy', 'calm', 'calm', 'fearful', 'fearful', 'happy', 'happy', 'disgust', 'calm', 'disgust', 'happy', 'happy', 'fearful', 'fearful', 'fearful', 'disgust', 'happy', 'fearful', 'fearful', 'happy', 'disgust', 'calm', 'fearful', 'fearful', 'happy', 'calm', 'happy', 'calm', 'disgust', 'happy', 'fearful', 'fearful', 'disgust', 'fearful', 'fearful', 'calm', 'calm', 'fearful', 'happy', 'fearful', 'disgust', 'fearful', 'fearful', 'calm', 'happy', 'fearful', 'disgust', 'calm', 'happy', 'calm', 'calm', 'disgust', 'calm', 'disgust', 'fearful', 'disgust', 'happy', 'calm', 'happy', 'calm', 'calm', 'disgust', 'disgust', 'disgust', 'happy', 'fearful', 'happy', 'calm', 'fearful', 'calm', 'disgust', 'happy', 'happy', 'fearful', 'disgust', 'disgust', 'happy', 'calm', 'disgust', 'calm', 'disgust', 'disgust', 'fearful', 'fearful', 'calm', 'happy', 'calm', 'happy', 'fearful', 'calm', 'happy', 'disgust', 'fearful', 'calm', 'happy', 'fearful', 'disgust', 'fearful', 'calm', 'disgust', 'fearful', 'fearful', 'calm', 'calm', 'fearful', 'calm', 'disgust', 'calm', 'happy', 'happy', 'disgust', 'calm', 'happy', 'calm', 'happy', 'fearful', 'disgust', 'calm', 'happy', 'disgust', 'fearful', 'happy', 'calm', 'disgust', 'calm', 'happy', 'happy', 'happy', 'happy', 'happy', 'fearful', 'happy', 'disgust', 'fearful', 'disgust', 'calm', 'happy', 'fearful', 'happy', 'calm', 'disgust', 'happy', 'disgust', 'disgust', 'fearful', 'disgust', 'fearful', 'happy', 'fearful', 'happy', 'happy', 'fearful', 'fearful', 'fearful', 'fearful', 'calm', 'calm', 'calm', 'calm', 'fearful', 'happy', 'fearful', 'happy', 'happy', 'disgust', 'disgust', 'happy', 'fearful', 'happy', 'calm', 'calm', 'fearful', 'disgust', 'happy', 'calm', 'disgust', 'fearful', 'happy', 'fearful', 'disgust', 'disgust', 'disgust', 'happy', 'happy', 'disgust', 'calm', 'disgust', 'calm', 'calm', 'fearful', 'disgust', 'happy', 'fearful', 'fearful', 'fearful', 'disgust', 'calm', 'disgust', 'calm', 'disgust', 'disgust', 'fearful', 'calm', 'happy', 'disgust', 'calm', 'fearful', 'happy', 'happy', 'calm', 'happy', 'happy', 'calm', 'calm', 'fearful', 'disgust', 'calm', 'fearful', 'calm', 'fearful', 'calm', 'happy', 'calm', 'happy', 'fearful', 'fearful', 'fearful', 'happy', 'happy', 'calm', 'calm', 'calm', 'happy', 'disgust', 'calm', 'disgust', 'disgust', 'calm', 'disgust', 'calm', 'calm', 'disgust', 'happy', 'disgust', 'calm', 'calm', 'disgust', 'fearful', 'fearful', 'happy', 'happy', 'fearful', 'calm', 'disgust', 'disgust', 'calm', 'disgust', 'fearful', 'fearful', 'disgust', 'fearful', 'disgust', 'fearful', 'fearful', 'calm', 'fearful', 'disgust', 'fearful', 'disgust', 'calm', 'disgust', 'calm', 'disgust', 'disgust', 'fearful', 'happy', 'fearful', 'fearful', 'disgust', 'fearful', 'fearful', 'disgust', 'happy', 'happy', 'disgust', 'happy', 'calm', 'calm', 'fearful', 'calm', 'disgust', 'calm', 'fearful', 'disgust', 'fearful', 'happy']\n"
          ],
          "name": "stdout"
        }
      ]
    },
    {
      "cell_type": "code",
      "metadata": {
        "id": "cll4tTB8ObIw"
      },
      "source": [
        "#Initialize the multi layer perceptron classifier\n",
        "\n",
        "model=MLPClassifier(alpha=0.01, batch_size=256, epsilon=1e-08, hidden_layer_sizes=(300,), learning_rate='adaptive', max_iter=500)"
      ],
      "execution_count": null,
      "outputs": []
    },
    {
      "cell_type": "code",
      "metadata": {
        "colab": {
          "base_uri": "https://localhost:8080/"
        },
        "id": "DanMPpHCOg1n",
        "outputId": "3f22ae45-4a73-4e9b-8698-1d188726a2df"
      },
      "source": [
        "#Train the model\n",
        "\n",
        "model.fit(x_train,y_train)"
      ],
      "execution_count": null,
      "outputs": [
        {
          "output_type": "execute_result",
          "data": {
            "text/plain": [
              "MLPClassifier(activation='relu', alpha=0.01, batch_size=256, beta_1=0.9,\n",
              "              beta_2=0.999, early_stopping=False, epsilon=1e-08,\n",
              "              hidden_layer_sizes=(300,), learning_rate='adaptive',\n",
              "              learning_rate_init=0.001, max_fun=15000, max_iter=500,\n",
              "              momentum=0.9, n_iter_no_change=10, nesterovs_momentum=True,\n",
              "              power_t=0.5, random_state=None, shuffle=True, solver='adam',\n",
              "              tol=0.0001, validation_fraction=0.1, verbose=False,\n",
              "              warm_start=False)"
            ]
          },
          "metadata": {
            "tags": []
          },
          "execution_count": 14
        }
      ]
    },
    {
      "cell_type": "code",
      "metadata": {
        "colab": {
          "base_uri": "https://localhost:8080/"
        },
        "id": "-bq58UpDR6Dz",
        "outputId": "341e8e6c-8e78-4aa7-9bc2-ba7a9a4b3303"
      },
      "source": [
        "y_pred=model.predict(x_test)\n",
        "y_pre=model.predict([feature])\n",
        "print(\"The outcome is : \",y_pre)"
      ],
      "execution_count": null,
      "outputs": [
        {
          "output_type": "stream",
          "text": [
            "The outcome is :  ['calm']\n"
          ],
          "name": "stdout"
        }
      ]
    },
    {
      "cell_type": "code",
      "metadata": {
        "colab": {
          "base_uri": "https://localhost:8080/"
        },
        "id": "4C15DO5XSe8o",
        "outputId": "930b8f39-ef6f-4609-a793-4ca94e1e1c29"
      },
      "source": [
        "accuracy=accuracy_score(y_true=y_test, y_pred=y_pred)\n",
        "\n",
        "#Print the accuracy\n",
        "print(\"Accuracy: {:.2f}%\".format(accuracy*100))"
      ],
      "execution_count": null,
      "outputs": [
        {
          "output_type": "stream",
          "text": [
            "Accuracy: 90.94%\n"
          ],
          "name": "stdout"
        }
      ]
    }
  ]
}